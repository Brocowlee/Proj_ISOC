{
 "cells": [
  {
   "cell_type": "code",
   "execution_count": 55,
   "metadata": {},
   "outputs": [
    {
     "name": "stdout",
     "output_type": "stream",
     "text": [
      "Camphin-en-Pévèle\n"
     ]
    }
   ],
   "source": [
    "from lxml import etree\n",
    "import requests as req\n",
    "from zipfile import ZipFile\n",
    "\n",
    "URL= \"https://donnees.roulez-eco.fr/opendata/instantane\"\n",
    "req.get(URL)\n",
    "\n",
    "with ZipFile(\"stations.zip\", 'r') as zip:\n",
    "    zip.extract('PrixCarburants_instantane.xml')\n",
    "\n",
    "data = etree.parse(\"PrixCarburants_instantane.xml\")\n",
    "\n",
    "print(data.xpath(\"/pdv_liste/pdv\")[0].find(\"ville\").text)\n"
   ]
  }
 ],
 "metadata": {
  "interpreter": {
   "hash": "18e03f19e2eea32137bb6b7634899948883c996f0eeacfc3548045b6b15590e6"
  },
  "kernelspec": {
   "display_name": "Python 3.7.3 64-bit",
   "language": "python",
   "name": "python3"
  },
  "language_info": {
   "codemirror_mode": {
    "name": "ipython",
    "version": 3
   },
   "file_extension": ".py",
   "mimetype": "text/x-python",
   "name": "python",
   "nbconvert_exporter": "python",
   "pygments_lexer": "ipython3",
   "version": "3.7.3"
  },
  "orig_nbformat": 4
 },
 "nbformat": 4,
 "nbformat_minor": 2
}
