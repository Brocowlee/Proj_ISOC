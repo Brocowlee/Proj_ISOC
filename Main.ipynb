{
 "cells": [
  {
   "cell_type": "code",
   "execution_count": 1,
   "metadata": {},
   "outputs": [
    {
     "name": "stdout",
     "output_type": "stream",
     "text": [
      "Camphin-en-Pévèle\n"
     ]
    }
   ],
   "source": [
    "from lxml import etree\n",
    "import requests as req\n",
    "from zipfile import ZipFile\n",
    "import folium\n",
    "\n",
    "URL= \"https://donnees.roulez-eco.fr/opendata/instantane\"\n",
    "req.get(URL)\n",
    "\n",
    "with ZipFile(\"stations.zip\", 'r') as zip:\n",
    "    zip.extract('PrixCarburants_instantane.xml')\n",
    "\n",
    "data = etree.parse(\"PrixCarburants_instantane.xml\")\n",
    "\n",
    "print(data.xpath(\"/pdv_liste/pdv\")[0].find(\"ville\").text)\n"
   ]
  },
  {
   "cell_type": "code",
   "execution_count": 2,
   "metadata": {},
   "outputs": [],
   "source": [
    "import folium\n",
    "import requests as req\n",
    "\n",
    "m = folium.Map(location=[46.684,2.769], zoom_start=5)\n",
    "\n",
    "folium.GeoJson(open('regions.geojson').read()).add_to(m)\n",
    "#folium.GeoJson(open('regions.geojson').read()).add_to(m)\n",
    "\n",
    "m.save(\"mapEssence.html\")"
   ]
  }
 ],
 "metadata": {
  "interpreter": {
   "hash": "a623da475a73745662c5ef29ebf7cb5c549ed6d794160318a2660ca5afd379ab"
  },
  "kernelspec": {
   "display_name": "Python 3.7.4 64-bit",
   "language": "python",
   "name": "python3"
  },
  "language_info": {
   "codemirror_mode": {
    "name": "ipython",
    "version": 3
   },
   "file_extension": ".py",
   "mimetype": "text/x-python",
   "name": "python",
   "nbconvert_exporter": "python",
   "pygments_lexer": "ipython3",
   "version": "3.7.4"
  },
  "orig_nbformat": 4
 },
 "nbformat": 4,
 "nbformat_minor": 2
}
